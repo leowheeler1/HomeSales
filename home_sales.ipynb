{
  "cells": [
    {
      "cell_type": "code",
      "execution_count": null,
      "metadata": {
        "colab": {
          "base_uri": "https://localhost:8080/"
        },
        "id": "a_KW73O2e3dw",
        "outputId": "896e1b34-b73d-4597-c3a5-47a6ec98a82c"
      },
      "outputs": [
        {
          "output_type": "stream",
          "name": "stdout",
          "text": [
            "\r0% [Working]\r            \rHit:1 https://developer.download.nvidia.com/compute/cuda/repos/ubuntu2204/x86_64  InRelease\n",
            "Hit:2 https://cloud.r-project.org/bin/linux/ubuntu jammy-cran40/ InRelease\n",
            "Hit:3 http://security.ubuntu.com/ubuntu jammy-security InRelease\n",
            "Hit:4 http://archive.ubuntu.com/ubuntu jammy InRelease\n",
            "Get:5 http://archive.ubuntu.com/ubuntu jammy-updates InRelease [128 kB]\n",
            "Hit:6 https://r2u.stat.illinois.edu/ubuntu jammy InRelease\n",
            "Hit:7 https://ppa.launchpadcontent.net/deadsnakes/ppa/ubuntu jammy InRelease\n",
            "Hit:8 https://ppa.launchpadcontent.net/graphics-drivers/ppa/ubuntu jammy InRelease\n",
            "Hit:9 https://ppa.launchpadcontent.net/ubuntugis/ppa/ubuntu jammy InRelease\n",
            "Hit:10 http://archive.ubuntu.com/ubuntu jammy-backports InRelease\n",
            "Fetched 128 kB in 2s (69.1 kB/s)\n",
            "Reading package lists... Done\n",
            "W: Skipping acquire of configured file 'main/source/Sources' as repository 'https://r2u.stat.illinois.edu/ubuntu jammy InRelease' does not seem to provide it (sources.list entry misspelt?)\n"
          ]
        }
      ],
      "source": [
        "import os\n",
        "# Find the latest version of spark 3.x  from http://www.apache.org/dist/spark/ and enter as the spark version\n",
        "# For example:\n",
        "# spark_version = 'spark-3.5.3'\n",
        "spark_version = 'spark-3.5.5'\n",
        "os.environ['SPARK_VERSION']=spark_version\n",
        "\n",
        "# Install Spark and Java\n",
        "!apt-get update\n",
        "!apt-get install openjdk-11-jdk-headless -qq > /dev/null\n",
        "!wget -q http://www.apache.org/dist/spark/$SPARK_VERSION/$SPARK_VERSION-bin-hadoop3.tgz\n",
        "!tar xf $SPARK_VERSION-bin-hadoop3.tgz\n",
        "!pip install -q findspark\n",
        "\n",
        "# Set Environment Variables\n",
        "os.environ[\"JAVA_HOME\"] = \"/usr/lib/jvm/java-11-openjdk-amd64\"\n",
        "os.environ[\"SPARK_HOME\"] = f\"/content/{spark_version}-bin-hadoop3\"\n",
        "\n",
        "# Start a SparkSession\n",
        "import findspark\n",
        "findspark.init()"
      ]
    },
    {
      "cell_type": "code",
      "execution_count": null,
      "metadata": {
        "id": "2XbWNf1Te5fM"
      },
      "outputs": [],
      "source": [
        "# Import packages\n",
        "from pyspark.sql import SparkSession\n",
        "import time\n",
        "\n",
        "# Create a SparkSession\n",
        "spark = SparkSession.builder.appName(\"SparkSQL\").getOrCreate()"
      ]
    },
    {
      "cell_type": "code",
      "execution_count": null,
      "metadata": {
        "id": "wOJqxG_RPSwp",
        "colab": {
          "base_uri": "https://localhost:8080/"
        },
        "outputId": "08c4e59b-a049-409e-a286-9862f254cea4"
      },
      "outputs": [
        {
          "output_type": "stream",
          "name": "stdout",
          "text": [
            "+--------------------+----------+----------+------+--------+---------+-----------+--------+------+----------+----+\n",
            "|                  id|      date|date_built| price|bedrooms|bathrooms|sqft_living|sqft_lot|floors|waterfront|view|\n",
            "+--------------------+----------+----------+------+--------+---------+-----------+--------+------+----------+----+\n",
            "|f8a53099-ba1c-47d...|2022-04-08|      2016|936923|       4|        3|       3167|   11733|     2|         1|  76|\n",
            "|7530a2d8-1ae3-451...|2021-06-13|      2013|379628|       2|        2|       2235|   14384|     1|         0|  23|\n",
            "|43de979c-0bf0-4c9...|2019-04-12|      2014|417866|       2|        2|       2127|   10575|     2|         0|   0|\n",
            "|b672c137-b88c-48b...|2019-10-16|      2016|239895|       2|        2|       1631|   11149|     2|         0|   0|\n",
            "|e0726d4d-d595-407...|2022-01-08|      2017|424418|       3|        2|       2249|   13878|     2|         0|   4|\n",
            "|5aa00529-0533-46b...|2019-01-30|      2017|218712|       2|        3|       1965|   14375|     2|         0|   7|\n",
            "|131492a1-72e2-4a8...|2020-02-08|      2017|419199|       2|        3|       2062|    8876|     2|         0|   6|\n",
            "|8d54a71b-c520-44e...|2019-07-21|      2010|323956|       2|        3|       1506|   11816|     1|         0|  25|\n",
            "|e81aacfe-17fe-46b...|2020-06-16|      2016|181925|       3|        3|       2137|   11709|     2|         0|  22|\n",
            "|2ed8d509-7372-46d...|2021-08-06|      2015|258710|       3|        3|       1918|    9666|     1|         0|  25|\n",
            "|f876d86f-3c9f-42b...|2019-02-27|      2011|167864|       3|        3|       2471|   13924|     2|         0|  15|\n",
            "|0a2bd445-8508-4d8...|2021-12-30|      2014|337527|       2|        3|       1926|   12556|     1|         0|  23|\n",
            "|941bad30-eb49-4a7...|2020-05-09|      2015|229896|       3|        3|       2197|    8641|     1|         0|   3|\n",
            "|dd61eb34-6589-4c0...|2021-07-25|      2016|210247|       3|        2|       1672|   11986|     2|         0|  28|\n",
            "|f1e4cef7-d151-439...|2019-02-01|      2011|398667|       2|        3|       2331|   11356|     1|         0|   7|\n",
            "|ea620c7b-c2f7-4c6...|2021-05-31|      2011|437958|       3|        3|       2356|   11052|     1|         0|  26|\n",
            "|f233cb41-6f33-4b0...|2021-07-18|      2016|437375|       4|        3|       1704|   11721|     2|         0|  34|\n",
            "|c797ca12-52cd-4b1...|2019-06-08|      2015|288650|       2|        3|       2100|   10419|     2|         0|   7|\n",
            "|0cfe57f3-28c2-472...|2019-10-04|      2015|308313|       3|        3|       1960|    9453|     2|         0|   2|\n",
            "|4566cd2a-ac6e-435...|2019-07-15|      2016|177541|       3|        3|       2130|   10517|     2|         0|  25|\n",
            "+--------------------+----------+----------+------+--------+---------+-----------+--------+------+----------+----+\n",
            "only showing top 20 rows\n",
            "\n"
          ]
        }
      ],
      "source": [
        "# 1. Read the home_sales_revised.csv from the provided AWS S3 bucket location into a PySpark DataFrame.\n",
        "from pyspark import SparkFiles\n",
        "url = \"https://2u-data-curriculum-team.s3.amazonaws.com/dataviz-classroom/v1.2/22-big-data/home_sales_revised.csv\"\n",
        "spark.sparkContext.addFile(url)\n",
        "df = spark.read.csv(SparkFiles.get(\"home_sales_revised.csv\"), sep = \",\", header = True, inferSchema = True)\n",
        "df.show()"
      ]
    },
    {
      "cell_type": "code",
      "source": [
        "# add year column before creating temp view\n",
        "from pyspark.sql.functions import year\n",
        "df = df.withColumn(\"year\", year(df['date']))\n",
        "df.show(1)"
      ],
      "metadata": {
        "colab": {
          "base_uri": "https://localhost:8080/"
        },
        "id": "WQnK1oWH12Js",
        "outputId": "348dc1d6-56b3-42ea-bcee-3c8cc3689672"
      },
      "execution_count": null,
      "outputs": [
        {
          "output_type": "stream",
          "name": "stdout",
          "text": [
            "+--------------------+----------+----------+------+--------+---------+-----------+--------+------+----------+----+----+\n",
            "|                  id|      date|date_built| price|bedrooms|bathrooms|sqft_living|sqft_lot|floors|waterfront|view|year|\n",
            "+--------------------+----------+----------+------+--------+---------+-----------+--------+------+----------+----+----+\n",
            "|f8a53099-ba1c-47d...|2022-04-08|      2016|936923|       4|        3|       3167|   11733|     2|         1|  76|2022|\n",
            "+--------------------+----------+----------+------+--------+---------+-----------+--------+------+----------+----+----+\n",
            "only showing top 1 row\n",
            "\n"
          ]
        }
      ]
    },
    {
      "cell_type": "code",
      "execution_count": null,
      "metadata": {
        "id": "RoljcJ7WPpnm"
      },
      "outputs": [],
      "source": [
        "# 2. Create a temporary view of the DataFrame.\n",
        "df.createOrReplaceTempView('hs')"
      ]
    },
    {
      "cell_type": "code",
      "execution_count": null,
      "metadata": {
        "id": "L6fkwOeOmqvq",
        "colab": {
          "base_uri": "https://localhost:8080/"
        },
        "outputId": "73dddbc3-711a-4bfa-e496-b17ddea07218"
      },
      "outputs": [
        {
          "output_type": "stream",
          "name": "stdout",
          "text": [
            "+----------------+\n",
            "|Avg4BedroomPrice|\n",
            "+----------------+\n",
            "|       299661.01|\n",
            "+----------------+\n",
            "\n"
          ]
        }
      ],
      "source": [
        "# 3. What is the average price for a four bedroom house sold per year, rounded to two decimal places?\n",
        "query = \"\"\"\n",
        "select round(avg(price),2) as Avg4BedroomPrice\n",
        "from hs\n",
        "where bedrooms like 4\n",
        "\"\"\"\n",
        "spark.sql(query).show()"
      ]
    },
    {
      "cell_type": "code",
      "execution_count": null,
      "metadata": {
        "id": "l8p_tUS8h8it",
        "colab": {
          "base_uri": "https://localhost:8080/"
        },
        "outputId": "206f4d12-05f1-4705-fd00-e0fa8288ffd1"
      },
      "outputs": [
        {
          "output_type": "stream",
          "name": "stdout",
          "text": [
            "+---------+----+\n",
            "| AvgPrice|year|\n",
            "+---------+----+\n",
            "|287287.82|2019|\n",
            "|294204.16|2020|\n",
            "|294211.46|2021|\n",
            "|292725.69|2022|\n",
            "+---------+----+\n",
            "\n"
          ]
        }
      ],
      "source": [
        "# 4. What is the average price of a home for each year the home was built,\n",
        "# that have 3 bedrooms and 3 bathrooms, rounded to two decimal places?\n",
        "# that have 3 bedrooms and 3 bathrooms, rounded to two decimal places?\n",
        "query = \"\"\"\n",
        "select round(avg(price),2) as AvgPrice, year\n",
        "from hs\n",
        "where bedrooms like 3 and bathrooms like 3\n",
        "group by 2\n",
        "order by 2\n",
        "\"\"\"\n",
        "spark.sql(query).show()"
      ]
    },
    {
      "cell_type": "code",
      "execution_count": null,
      "metadata": {
        "id": "Y-Eytz64liDU",
        "colab": {
          "base_uri": "https://localhost:8080/"
        },
        "outputId": "efe7a755-f82c-4a23-a7bc-1dcabf405e21"
      },
      "outputs": [
        {
          "output_type": "stream",
          "name": "stdout",
          "text": [
            "+---------+----+\n",
            "| AvgPrice|year|\n",
            "+---------+----+\n",
            "|294372.02|2019|\n",
            "| 296314.6|2020|\n",
            "|305118.97|2021|\n",
            "|302871.28|2022|\n",
            "+---------+----+\n",
            "\n"
          ]
        }
      ],
      "source": [
        "# 5. What is the average price of a home for each year the home was built,\n",
        "# that have 3 bedrooms, 3 bathrooms, with two floors,\n",
        "# and are greater than or equal to 2,000 square feet, rounded to two decimal places?\n",
        "query = \"\"\"\n",
        "select round(avg(price),2) as AvgPrice, year\n",
        "from hs\n",
        "where bedrooms like 3\n",
        "and bathrooms like 3\n",
        "and sqft_living >= 2000\n",
        "group by 2\n",
        "order by 2\n",
        "\"\"\"\n",
        "spark.sql(query).show()"
      ]
    },
    {
      "cell_type": "code",
      "execution_count": null,
      "metadata": {
        "colab": {
          "base_uri": "https://localhost:8080/"
        },
        "id": "GUrfgOX1pCRd",
        "outputId": "30cd1aa5-bbfc-4e7f-fd4a-b196861c66a0"
      },
      "outputs": [
        {
          "output_type": "stream",
          "name": "stdout",
          "text": [
            "+----------+----+\n",
            "|  AvgPrice|view|\n",
            "+----------+----+\n",
            "| 1026669.5| 100|\n",
            "|1061201.42|  99|\n",
            "|1053739.33|  98|\n",
            "|1129040.15|  97|\n",
            "|1017815.92|  96|\n",
            "| 1054325.6|  95|\n",
            "| 1033536.2|  94|\n",
            "|1026006.06|  93|\n",
            "| 970402.55|  92|\n",
            "|1137372.73|  91|\n",
            "|1062654.16|  90|\n",
            "|1107839.15|  89|\n",
            "|1031719.35|  88|\n",
            "| 1072285.2|  87|\n",
            "|1070444.25|  86|\n",
            "|1056336.74|  85|\n",
            "|1117233.13|  84|\n",
            "|1033965.93|  83|\n",
            "| 1063498.0|  82|\n",
            "|1053472.79|  81|\n",
            "+----------+----+\n",
            "only showing top 20 rows\n",
            "\n",
            "--- 0.9231984615325928 seconds ---\n"
          ]
        }
      ],
      "source": [
        "# 6. What is the average price of a home per \"view\" rating, rounded to two decimal places,\n",
        "# having an average home price greater than or equal to $350,000? Order by descending view rating.\n",
        "# Although this is a small dataset, determine the run time for this query.\n",
        "start_time = time.time()\n",
        "\n",
        "query = \"\"\"\n",
        "select round(avg(price),2) as AvgPrice, view\n",
        "from hs\n",
        "where price >= 350000\n",
        "group by 2\n",
        "order by 2 desc\n",
        "\"\"\"\n",
        "spark.sql(query).show()\n",
        "\n",
        "print(\"--- %s seconds ---\" % (time.time() - start_time))\n",
        "time_last = time.time() - start_time"
      ]
    },
    {
      "cell_type": "code",
      "execution_count": null,
      "metadata": {
        "id": "KAhk3ZD2tFy8",
        "colab": {
          "base_uri": "https://localhost:8080/"
        },
        "outputId": "c8dd7a45-ed8b-4481-83d2-eb54f92d3092"
      },
      "outputs": [
        {
          "output_type": "execute_result",
          "data": {
            "text/plain": [
              "DataFrame[]"
            ]
          },
          "metadata": {},
          "execution_count": 11
        }
      ],
      "source": [
        "# 7. Cache the the temporary table home_sales.\n",
        "spark.sql(\"cache table hs\")"
      ]
    },
    {
      "cell_type": "code",
      "execution_count": null,
      "metadata": {
        "id": "4opVhbvxtL-i",
        "colab": {
          "base_uri": "https://localhost:8080/"
        },
        "outputId": "97f483fd-ff29-485a-e39f-b8c4717fa30d"
      },
      "outputs": [
        {
          "output_type": "execute_result",
          "data": {
            "text/plain": [
              "True"
            ]
          },
          "metadata": {},
          "execution_count": 13
        }
      ],
      "source": [
        "# 8. Check if the table is cached.\n",
        "spark.catalog.isCached('hs')"
      ]
    },
    {
      "cell_type": "code",
      "execution_count": null,
      "metadata": {
        "colab": {
          "base_uri": "https://localhost:8080/"
        },
        "id": "5GnL46lwTSEk",
        "outputId": "b522e834-8b5a-4762-8f7c-7abae17a2ddc"
      },
      "outputs": [
        {
          "output_type": "stream",
          "name": "stdout",
          "text": [
            "+----------+----+\n",
            "|  AvgPrice|view|\n",
            "+----------+----+\n",
            "| 1026669.5| 100|\n",
            "|1061201.42|  99|\n",
            "|1053739.33|  98|\n",
            "|1129040.15|  97|\n",
            "|1017815.92|  96|\n",
            "| 1054325.6|  95|\n",
            "| 1033536.2|  94|\n",
            "|1026006.06|  93|\n",
            "| 970402.55|  92|\n",
            "|1137372.73|  91|\n",
            "|1062654.16|  90|\n",
            "|1107839.15|  89|\n",
            "|1031719.35|  88|\n",
            "| 1072285.2|  87|\n",
            "|1070444.25|  86|\n",
            "|1056336.74|  85|\n",
            "|1117233.13|  84|\n",
            "|1033965.93|  83|\n",
            "| 1063498.0|  82|\n",
            "|1053472.79|  81|\n",
            "+----------+----+\n",
            "only showing top 20 rows\n",
            "\n",
            "--- 0.9226715564727783 seconds ---\n",
            "That is 0.0787355899810791 seconds faster than last time!\n"
          ]
        }
      ],
      "source": [
        "# 9. Using the cached data, run the last query above, that calculates\n",
        "# the average price of a home per \"view\" rating, rounded to two decimal places,\n",
        "# having an average home price greater than or equal to $350,000.\n",
        "# Determine the runtime and compare it to the uncached runtime.\n",
        "start_time = time.time()\n",
        "\n",
        "query = \"\"\"\n",
        "select round(avg(price),2) as AvgPrice, view\n",
        "from hs\n",
        "where price >= 350000\n",
        "group by 2\n",
        "order by 2 desc\n",
        "\"\"\"\n",
        "spark.sql(query).show()\n",
        "\n",
        "print(\"--- %s seconds ---\" % (time.time() - start_time))\n",
        "print(f\"That is {time_last - (time.time()-start_time)} seconds faster than last time!\")\n",
        "time_last = time.time() - start_time\n"
      ]
    },
    {
      "cell_type": "code",
      "execution_count": null,
      "metadata": {
        "id": "Qm12WN9isHBR"
      },
      "outputs": [],
      "source": [
        "# 10. Partition by the \"date_built\" field on the formatted parquet home sales data\n",
        "df.write.partitionBy(\"date_built\").mode(\"overwrite\").parquet(\"hs_partitioned\")"
      ]
    },
    {
      "cell_type": "code",
      "execution_count": null,
      "metadata": {
        "id": "AZ7BgY61sRqY"
      },
      "outputs": [],
      "source": [
        "# 11. Read the parquet formatted data.\n",
        "df_p = spark.read.parquet('hs_partitioned')"
      ]
    },
    {
      "cell_type": "code",
      "execution_count": null,
      "metadata": {
        "id": "J6MJkHfvVcvh"
      },
      "outputs": [],
      "source": [
        "# 12. Create a temporary table for the parquet data.\n",
        "df_p.createOrReplaceTempView('hs_p')"
      ]
    },
    {
      "cell_type": "code",
      "execution_count": null,
      "metadata": {
        "colab": {
          "base_uri": "https://localhost:8080/"
        },
        "id": "G_Vhb52rU1Sn",
        "outputId": "59b47050-c58f-40f1-b163-e26e3175c757"
      },
      "outputs": [
        {
          "output_type": "stream",
          "name": "stdout",
          "text": [
            "+----------+----+\n",
            "|  AvgPrice|view|\n",
            "+----------+----+\n",
            "| 1026669.5| 100|\n",
            "|1061201.42|  99|\n",
            "|1053739.33|  98|\n",
            "|1129040.15|  97|\n",
            "|1017815.92|  96|\n",
            "| 1054325.6|  95|\n",
            "| 1033536.2|  94|\n",
            "|1026006.06|  93|\n",
            "| 970402.55|  92|\n",
            "|1137372.73|  91|\n",
            "|1062654.16|  90|\n",
            "|1107839.15|  89|\n",
            "|1031719.35|  88|\n",
            "| 1072285.2|  87|\n",
            "|1070444.25|  86|\n",
            "|1056336.74|  85|\n",
            "|1117233.13|  84|\n",
            "|1033965.93|  83|\n",
            "| 1063498.0|  82|\n",
            "|1053472.79|  81|\n",
            "+----------+----+\n",
            "only showing top 20 rows\n",
            "\n",
            "That is -0.28012776374816895 seconds slower than last time.\n",
            "--- 0.8756792545318604 seconds ---\n"
          ]
        }
      ],
      "source": [
        "# 13. Using the parquet DataFrame, run the last query above, that calculates\n",
        "# the average price of a home per \"view\" rating, rounded to two decimal places,\n",
        "# having an average home price greater than or equal to $350,000.\n",
        "# Determine the runtime and compare it to the cached runtime.\n",
        "start_time = time.time()\n",
        "\n",
        "query = \"\"\"\n",
        "select round(avg(price),2) as AvgPrice, view\n",
        "from hs_p\n",
        "where price >= 350000\n",
        "group by 2\n",
        "order by 2 desc\n",
        "\"\"\"\n",
        "spark.sql(query).show()\n",
        "if (time_last - (time.time() - start_time)) > 0:\n",
        "  print(f\"That is {time_last - (time.time()-start_time)} seconds faster than last time!\")\n",
        "else:\n",
        "  print(f\"That is {time_last - (time.time()-start_time)} seconds slower than last time.\")\n",
        "print(\"--- %s seconds ---\" % (time.time() - start_time))\n",
        "\n",
        "time_last = time.time() - start_time"
      ]
    },
    {
      "cell_type": "code",
      "execution_count": null,
      "metadata": {
        "id": "hjjYzQGjtbq8",
        "colab": {
          "base_uri": "https://localhost:8080/"
        },
        "outputId": "23a4f5b9-1a56-4bab-c4aa-9676661b80b4"
      },
      "outputs": [
        {
          "output_type": "execute_result",
          "data": {
            "text/plain": [
              "DataFrame[]"
            ]
          },
          "metadata": {},
          "execution_count": 24
        }
      ],
      "source": [
        "# 14. Uncache the home_sales temporary table.\n",
        "spark.sql(\"uncache table hs\")"
      ]
    },
    {
      "cell_type": "code",
      "execution_count": null,
      "metadata": {
        "id": "Sy9NBvO7tlmm",
        "colab": {
          "base_uri": "https://localhost:8080/"
        },
        "outputId": "014a9637-1599-41f2-96d0-02ed6f34a3ed"
      },
      "outputs": [
        {
          "output_type": "execute_result",
          "data": {
            "text/plain": [
              "False"
            ]
          },
          "metadata": {},
          "execution_count": 25
        }
      ],
      "source": [
        "# 15. Check if the home_sales is no longer cached\n",
        "spark.catalog.isCached('hs')"
      ]
    },
    {
      "cell_type": "code",
      "source": [
        "from google.colab import drive\n",
        "drive.mount('/content/drive')"
      ],
      "metadata": {
        "colab": {
          "base_uri": "https://localhost:8080/"
        },
        "id": "20ju5rXx5Dg4",
        "outputId": "d7170761-0728-4fcb-8f6d-d9665f332964"
      },
      "execution_count": 28,
      "outputs": [
        {
          "output_type": "stream",
          "name": "stdout",
          "text": [
            "Mounted at /content/drive\n"
          ]
        }
      ]
    },
    {
      "cell_type": "code",
      "source": [
        "%cd /content/hs_partitioned"
      ],
      "metadata": {
        "colab": {
          "base_uri": "https://localhost:8080/"
        },
        "id": "K9Ac7Hma5SD3",
        "outputId": "8343c15d-b3aa-49cd-fd88-3f21ffa9aaa7"
      },
      "execution_count": 29,
      "outputs": [
        {
          "output_type": "stream",
          "name": "stdout",
          "text": [
            "/content/hs_partitioned\n"
          ]
        }
      ]
    },
    {
      "cell_type": "code",
      "source": [
        "!zip -r hs_partitioned.zip . hs_partitioned"
      ],
      "metadata": {
        "colab": {
          "base_uri": "https://localhost:8080/"
        },
        "id": "Evjyhqef5UGE",
        "outputId": "b6d47680-e11c-4240-9666-25842221c68f"
      },
      "execution_count": 33,
      "outputs": [
        {
          "output_type": "stream",
          "name": "stdout",
          "text": [
            "\tzip warning: name not matched: hs_partitioned\n",
            "  adding: date_built=2016/ (stored 0%)\n",
            "  adding: date_built=2016/part-00000-ac5493ff-8e10-4a00-bcd3-9232e3f192bb.c000.snappy.parquet (deflated 24%)\n",
            "  adding: date_built=2016/.part-00000-ac5493ff-8e10-4a00-bcd3-9232e3f192bb.c000.snappy.parquet.crc (stored 0%)\n",
            "  adding: date_built=2017/ (stored 0%)\n",
            "  adding: date_built=2017/part-00000-ac5493ff-8e10-4a00-bcd3-9232e3f192bb.c000.snappy.parquet (deflated 24%)\n",
            "  adding: date_built=2017/.part-00000-ac5493ff-8e10-4a00-bcd3-9232e3f192bb.c000.snappy.parquet.crc (stored 0%)\n",
            "  adding: date_built=2014/ (stored 0%)\n",
            "  adding: date_built=2014/part-00000-ac5493ff-8e10-4a00-bcd3-9232e3f192bb.c000.snappy.parquet (deflated 24%)\n",
            "  adding: date_built=2014/.part-00000-ac5493ff-8e10-4a00-bcd3-9232e3f192bb.c000.snappy.parquet.crc (stored 0%)\n",
            "  adding: date_built=2011/ (stored 0%)\n",
            "  adding: date_built=2011/part-00000-ac5493ff-8e10-4a00-bcd3-9232e3f192bb.c000.snappy.parquet (deflated 24%)\n",
            "  adding: date_built=2011/.part-00000-ac5493ff-8e10-4a00-bcd3-9232e3f192bb.c000.snappy.parquet.crc (stored 0%)\n",
            "  adding: date_built=2015/ (stored 0%)\n",
            "  adding: date_built=2015/part-00000-ac5493ff-8e10-4a00-bcd3-9232e3f192bb.c000.snappy.parquet (deflated 24%)\n",
            "  adding: date_built=2015/.part-00000-ac5493ff-8e10-4a00-bcd3-9232e3f192bb.c000.snappy.parquet.crc (stored 0%)\n",
            "  adding: date_built=2010/ (stored 0%)\n",
            "  adding: date_built=2010/part-00000-ac5493ff-8e10-4a00-bcd3-9232e3f192bb.c000.snappy.parquet (deflated 24%)\n",
            "  adding: date_built=2010/.part-00000-ac5493ff-8e10-4a00-bcd3-9232e3f192bb.c000.snappy.parquet.crc (stored 0%)\n",
            "  adding: date_built=2013/ (stored 0%)\n",
            "  adding: date_built=2013/part-00000-ac5493ff-8e10-4a00-bcd3-9232e3f192bb.c000.snappy.parquet (deflated 24%)\n",
            "  adding: date_built=2013/.part-00000-ac5493ff-8e10-4a00-bcd3-9232e3f192bb.c000.snappy.parquet.crc (stored 0%)\n",
            "  adding: date_built=2012/ (stored 0%)\n",
            "  adding: date_built=2012/part-00000-ac5493ff-8e10-4a00-bcd3-9232e3f192bb.c000.snappy.parquet (deflated 24%)\n",
            "  adding: date_built=2012/.part-00000-ac5493ff-8e10-4a00-bcd3-9232e3f192bb.c000.snappy.parquet.crc (stored 0%)\n",
            "  adding: _SUCCESS (stored 0%)\n",
            "  adding: ._SUCCESS.crc (stored 0%)\n"
          ]
        }
      ]
    },
    {
      "cell_type": "code",
      "source": [
        "from google.colab import files\n",
        "files.download('hs_partitioned.zip')"
      ],
      "metadata": {
        "colab": {
          "base_uri": "https://localhost:8080/",
          "height": 17
        },
        "id": "Y8YSgseR5ftW",
        "outputId": "f86ff28f-c1a3-4c1c-c78a-273db6da34d0"
      },
      "execution_count": 34,
      "outputs": [
        {
          "output_type": "display_data",
          "data": {
            "text/plain": [
              "<IPython.core.display.Javascript object>"
            ],
            "application/javascript": [
              "\n",
              "    async function download(id, filename, size) {\n",
              "      if (!google.colab.kernel.accessAllowed) {\n",
              "        return;\n",
              "      }\n",
              "      const div = document.createElement('div');\n",
              "      const label = document.createElement('label');\n",
              "      label.textContent = `Downloading \"${filename}\": `;\n",
              "      div.appendChild(label);\n",
              "      const progress = document.createElement('progress');\n",
              "      progress.max = size;\n",
              "      div.appendChild(progress);\n",
              "      document.body.appendChild(div);\n",
              "\n",
              "      const buffers = [];\n",
              "      let downloaded = 0;\n",
              "\n",
              "      const channel = await google.colab.kernel.comms.open(id);\n",
              "      // Send a message to notify the kernel that we're ready.\n",
              "      channel.send({})\n",
              "\n",
              "      for await (const message of channel.messages) {\n",
              "        // Send a message to notify the kernel that we're ready.\n",
              "        channel.send({})\n",
              "        if (message.buffers) {\n",
              "          for (const buffer of message.buffers) {\n",
              "            buffers.push(buffer);\n",
              "            downloaded += buffer.byteLength;\n",
              "            progress.value = downloaded;\n",
              "          }\n",
              "        }\n",
              "      }\n",
              "      const blob = new Blob(buffers, {type: 'application/binary'});\n",
              "      const a = document.createElement('a');\n",
              "      a.href = window.URL.createObjectURL(blob);\n",
              "      a.download = filename;\n",
              "      div.appendChild(a);\n",
              "      a.click();\n",
              "      div.remove();\n",
              "    }\n",
              "  "
            ]
          },
          "metadata": {}
        },
        {
          "output_type": "display_data",
          "data": {
            "text/plain": [
              "<IPython.core.display.Javascript object>"
            ],
            "application/javascript": [
              "download(\"download_2acc4674-8e74-49ba-8d6a-b11fd2da7b1b\", \"hs_partitioned.zip\", 1347486)"
            ]
          },
          "metadata": {}
        }
      ]
    }
  ],
  "metadata": {
    "colab": {
      "provenance": []
    },
    "gpuClass": "standard",
    "kernelspec": {
      "display_name": "Python 3 (ipykernel)",
      "language": "python",
      "name": "python3"
    },
    "language_info": {
      "codemirror_mode": {
        "name": "ipython",
        "version": 3
      },
      "file_extension": ".py",
      "mimetype": "text/x-python",
      "name": "python",
      "nbconvert_exporter": "python",
      "pygments_lexer": "ipython3",
      "version": "3.10.4"
    },
    "nteract": {
      "version": "0.28.0"
    }
  },
  "nbformat": 4,
  "nbformat_minor": 0
}